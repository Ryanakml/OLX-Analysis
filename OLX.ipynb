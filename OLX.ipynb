{
 "cells": [
  {
   "cell_type": "markdown",
   "id": "1c38b048-8b8a-45e1-92d8-2788684fbff2",
   "metadata": {},
   "source": [
    "# Scraping Data OLX.co.id"
   ]
  },
  {
   "cell_type": "markdown",
   "id": "c28ba051-5293-4688-97f5-21ec1a4f34e7",
   "metadata": {},
   "source": [
    "## DATA\n",
    "* Harga\n",
    "* Deskripsi\n",
    "* Lokasi\n",
    "* Nama Toko\n",
    "* No Telfon"
   ]
  },
  {
   "cell_type": "code",
   "execution_count": null,
   "id": "be39e49b-cd52-498e-89e2-faa0d6278e51",
   "metadata": {},
   "outputs": [],
   "source": [
    "from selenium import webdriver\n",
    "import time\n",
    "\n",
    "from selenium.webdriver.common.by import By\n",
    "from selenium.common.exception "
   ]
  },
  {
   "cell_type": "code",
   "execution_count": null,
   "id": "0924147a-a74f-4ea1-93e9-000ec0551209",
   "metadata": {},
   "outputs": [],
   "source": [
    "import requests\n",
    "from bs4 import BeautifulSoup\n",
    "# url atau link awal dan link pencarian barang\n",
    "url_awal = 0\n",
    "url = 'https://www.olx.co.id/jakarta-selatan_g4000030/handphone_c208/q-handphone'\n",
    "\n",
    "# reponse data yang di ambil\n",
    "response = requests.get(url)\n",
    "soup = BeautifulSoup(response.content, 'lxml')\n",
    "\n",
    "# ambil data tiap produk yang ditampilkan\n",
    "list_produk = soup.find_all('li', class_='_1DNjI')\n",
    "\n",
    "list_produk"
   ]
  },
  {
   "cell_type": "code",
   "execution_count": null,
   "id": "f45b09e6-a559-495f-9616-b99396d3925d",
   "metadata": {},
   "outputs": [],
   "source": [
    "import requests\n",
    "from bs4 import BeautifulSoup\n",
    "\n",
    "url = 'https://www.olx.co.id/jakarta-selatan_g4000030/handphone_c208/q-handphone'\n",
    "\n",
    "response = requests.get(url)\n",
    "soup = BeautifulSoup(response.content, 'html.parser')\n",
    "\n",
    "# Cari elemen dengan class _2cbZ2\n",
    "element_with_class = soup.find('a', class_='_2cbZ2')\n",
    "\n",
    "if element_with_class:\n",
    "    # Ambil atribut href dari elemen tersebut\n",
    "    link = element_with_class.get('href')\n",
    "    print(f\"Link Produk: {link}\")\n",
    "else:\n",
    "    print(\"Element dengan class _2cbZ2 tidak ditemukan.\")\n"
   ]
  },
  {
   "cell_type": "code",
   "execution_count": null,
   "id": "b17e6b3b-625b-4318-9a1f-02eda133759c",
   "metadata": {},
   "outputs": [],
   "source": [
    "import requests\n",
    "from bs4 import BeautifulSoup\n",
    "\n",
    "url = \"https://www.olx.co.id/\"\n",
    "\n",
    "# Mengirim permintaan GET ke URL\n",
    "response = requests.get(url)\n",
    "\n",
    "# Memastikan respons berhasil\n",
    "if response.status_code == 200:\n",
    "    html_content = response.text\n",
    "    \n",
    "    # Menggunakan BeautifulSoup untuk menemukan tautan di dalam elemen dengan kelas _1DNjI\n",
    "    soup = BeautifulSoup(html_content, 'html.parser')\n",
    "    \n",
    "    # Mencari semua elemen dengan kelas _1DNjI\n",
    "    elements_with_class = soup.find_all(class_='_1DNjI')\n",
    "    \n",
    "    # Melooping setiap elemen untuk menemukan tautan\n",
    "    for element in elements_with_class:\n",
    "        links = element.find_all('a', href=True)  # Menemukan semua tautan di dalam elemen\n",
    "        for link in links:\n",
    "            print(link['href'])  # Mencetak tautan\n",
    "else:\n",
    "    print(\"Gagal memuat halaman:\", response.status_code)\n"
   ]
  },
  {
   "cell_type": "code",
   "execution_count": null,
   "id": "889f6fc9-eba6-4c30-9ef7-896244c1f0d2",
   "metadata": {},
   "outputs": [],
   "source": []
  }
 ],
 "metadata": {
  "kernelspec": {
   "display_name": "Python 3 (ipykernel)",
   "language": "python",
   "name": "python3"
  },
  "language_info": {
   "codemirror_mode": {
    "name": "ipython",
    "version": 3
   },
   "file_extension": ".py",
   "mimetype": "text/x-python",
   "name": "python",
   "nbconvert_exporter": "python",
   "pygments_lexer": "ipython3",
   "version": "3.11.5"
  }
 },
 "nbformat": 4,
 "nbformat_minor": 5
}
